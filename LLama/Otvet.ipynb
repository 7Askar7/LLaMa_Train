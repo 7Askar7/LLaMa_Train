{
 "cells": [
  {
   "cell_type": "code",
   "execution_count": 1,
   "id": "c18a8c45",
   "metadata": {},
   "outputs": [],
   "source": [
    "import math\n",
    "import pickle\n",
    "import numpy as np\n",
    "import torch\n",
    "import transformers \n",
    "from transformers import LlamaTokenizer, LlamaForCausalLM, BitsAndBytesConfig\n",
    "\n",
    "from peft import ( \n",
    "    LoraConfig,\n",
    "    get_peft_model\n",
    ")"
   ]
  },
  {
   "cell_type": "code",
   "execution_count": 2,
   "id": "e23a4734",
   "metadata": {},
   "outputs": [],
   "source": [
    "\n",
    "DEVICE = \"cuda\" if torch.cuda.is_available() else \"cpu\"\n",
    "\n",
    "BASE_MODEL = \"/archive/evseev/.deeppavlov/downloads/torch_trnsf_models/llama-2-7b-hf\"\n",
    "\n",
    "tokenizer = LlamaTokenizer.from_pretrained(BASE_MODEL)\n",
    "\n",
    "tokenizer.pad_token_id = 0\n",
    "\n",
    "tokenizer.padding_side = \"left\""
   ]
  },
  {
   "cell_type": "code",
   "execution_count": 3,
   "id": "5eb34910",
   "metadata": {},
   "outputs": [
    {
     "name": "stdout",
     "output_type": "stream",
     "text": [
      "{'Имя': 'Антонина', 'Фамилия': 'Попова', 'Отчество': 'Игоревна', 'Откуда': 'Краснодар', 'Куда': 'Москва', 'Дата вылета': '05.12.2023', 'Время вылета': '12:30', 'Количество взрослых': 1, 'Количество детей': 0, 'Класс': 'Бизнес', 'Багажник': 'Нет', 'Text': 'Добрый день! Меня зовут Антонина Игоревна Попова. Планирую полететь из Краснодара в Москву 5 декабря в 12:30. Бронирую один билет бизнес-класса без багажа.'}\n"
     ]
    }
   ],
   "source": [
    "from sklearn.model_selection import train_test_split\n",
    "import pandas as pd\n",
    "\n",
    "\n",
    "dataset = pd.read_csv(\"/archive/evseev/test_saiga/Retrieve_formatting/Experiment_Saiga/Data.csv\")\n",
    "\n",
    "# Подготавливаем данные\n",
    "dataset = dataset.applymap(lambda x: \"\" if x == \"Не указано\" else x)\n",
    "dataset['Количество детей'] = dataset['Количество детей'].apply(lambda x: 0 if pd.isna(x) else x)\n",
    "dataset['Количество детей'] = dataset['Количество детей'].astype(int)\n",
    "# Конвертируем в to_dict для того, чтобы можно было работать с LlaMa\n",
    "dataset = dataset.to_dict('records')\n",
    "\n",
    "print(dataset[0])"
   ]
  },
  {
   "cell_type": "code",
   "execution_count": null,
   "id": "3d648f6e",
   "metadata": {},
   "outputs": [
    {
     "name": "stdout",
     "output_type": "stream",
     "text": [
      "test_data [{'Имя': 'Мария', 'Фамилия': 'Иванова', 'Отчество': '', 'Откуда': 'Париж', 'Куда': 'Токио', 'Дата вылета': '20.11.2023', 'Время вылета': '15:45', 'Количество взрослых': 1, 'Количество детей': 1, 'Класс': 'Эконом', 'Багажник': 'Да', 'Text': 'Заказ билета из Парижа в Токио на 20 ноября в 15:45 для одного взрослого и одного ребёнка в эконом-классе с багажом.'}, {'Имя': 'Денис', 'Фамилия': 'Игоревич', 'Отчество': 'Кузнецов', 'Откуда': 'Берлин', 'Куда': 'Варшава', 'Дата вылета': '15.12.2023', 'Время вылета': '15:15', 'Количество взрослых': 1, 'Количество детей': 0, 'Класс': 'Бизнес', 'Багажник': 'Нет', 'Text': 'Здравствуйте! Я Денис Игоревич Кузнецов, и я хочу забронировать билет бизнес-класса из Берлина в Варшаву на 15 декабря в 15:15. Пожалуйста, сообщите о возможности заказа дополнительных услуг для комфортного перелета.'}, {'Имя': 'Джон', 'Фамилия': 'Смит', 'Отчество': '', 'Откуда': 'Нью-Йорк', 'Куда': 'Лондон', 'Дата вылета': '12.10.2023', 'Время вылета': '14:20', 'Количество взрослых': 1, 'Количество детей': 0, 'Класс': 'Эконом', 'Багажник': 'Да', 'Text': 'Бронирование билета из Нью-Йорка в Лондон на 12 октября в 14:20 для одного человека в эконом-классе с багажом.'}, {'Имя': 'Ангелина', 'Фамилия': 'Сидорова', 'Отчество': '', 'Откуда': 'Амстердам', 'Куда': 'Брюссель', 'Дата вылета': '25.08.2023', 'Время вылета': '', 'Количество взрослых': 1, 'Количество детей': 0, 'Класс': '', 'Багажник': 'Нет', 'Text': 'Здравствуйте! Меня зовут Ангелина Сидорова, и я хочу забронировать билет из Амстердама в Брюссель на 25 августа. Оплачу сразу, укажите реквизиты.'}, {'Имя': 'Анастасия', 'Фамилия': 'Петрова', 'Отчество': 'Ивановна', 'Откуда': 'Милан', 'Куда': 'Барселона', 'Дата вылета': '10.07.2023', 'Время вылета': '18:00', 'Количество взрослых': 1, 'Количество детей': 1, 'Класс': 'эконом', 'Багажник': 'Нет', 'Text': 'Здравствуйте! Меня зовут Анастасия Ивановна Петрова, и я хотела бы оформить заказ на два билета эконом класса из Милана в Барселону на 10 июля в 18:00 для себя и своего сына. Пожалуйста, подтвердите наличие дополнительных услуг для младенцев.'}, {'Имя': 'Александра', 'Фамилия': 'Олеговна', 'Отчество': 'Смирнова', 'Откуда': 'Сеул', 'Куда': 'Тайбэй', 'Дата вылета': '03.02.2024', 'Время вылета': '11:00', 'Количество взрослых': 1, 'Количество детей': 0, 'Класс': 'Эконом', 'Багажник': 'Нет', 'Text': 'Привет! Меня зовут Александра Олеговна Смирнова, и я интересуюсь бронированием билета эконом класса из Сеула в Тайбэй на 3 февраля в 11:00. Есть ли какие-то бонусы или программы лояльности для постоянных пассажиров?'}, {'Имя': 'Петрова', 'Фамилия': 'Анна', 'Отчество': 'Сергеевна', 'Откуда': 'Санкт-Петербург', 'Куда': 'Париж', 'Дата вылета': '15.08.2023', 'Время вылета': '10:00', 'Количество взрослых': 2, 'Количество детей': 1, 'Класс': 'Бизнес', 'Багажник': 'Да', 'Text': 'Добрый день! Меня зовут Анна Сергеевна Петрова. Хочу забронировать два билета бизнес-класса с багажом из Санкт-Петербурга в Париж 15 августа в 10:00. В том числе один билет на ребёнка 5 лет. С возможностью изменить даты вылета и возвращения.'}, {'Имя': 'Надежда', 'Фамилия': 'Ковалева', 'Отчество': 'Александровна', 'Откуда': 'Сидней', 'Куда': 'Мельбурн', 'Дата вылета': '05.04.2023', 'Время вылета': '14:45', 'Количество взрослых': 1, 'Количество детей': 0, 'Класс': 'эконом', 'Багажник': 'Нет', 'Text': 'Приветствую! Я Надежда Александровна Ковалева, и я хочу заказать билет эконом класса из Сиднея в Мельбурн на 5 апреля в 14:45 на свой день рождения. Есть ли какие-то специальные предложения для пассажиров, отмечающих важные события?'}]\n"
     ]
    }
   ],
   "source": [
    "# Предобработка для замены на пустую строку\n",
    "for i in range(len(dataset)):\n",
    "    sample = dataset[i]\n",
    "    for key in sample:\n",
    "        if not isinstance(sample[key], str) and math.isnan(sample[key]):\n",
    "            sample[key] = \"\"\n",
    "    dataset[i] = sample\n",
    "\n",
    "train_data, test_data = train_test_split(dataset, test_size = 0.1)\n",
    "\n",
    "print(\"test_data\", test_data)\n",
    "\n",
    "# Распределяем работа между картами\n",
    "device_map = device_map = {\n",
    "    \"model.embed_tokens\": 0,\n",
    "    \"model.norm\": 2,\n",
    "    \"lm_head\": 2\n",
    "}"
   ]
  },
  {
   "cell_type": "code",
   "execution_count": 5,
   "id": "49a02059",
   "metadata": {},
   "outputs": [
    {
     "data": {
      "application/vnd.jupyter.widget-view+json": {
       "model_id": "",
       "version_major": 2,
       "version_minor": 0
      },
      "text/plain": [
       "Loading checkpoint shards:   0%|          | 0/3 [00:00<?, ?it/s]"
      ]
     },
     "metadata": {},
     "output_type": "display_data"
    },
    {
     "name": "stdout",
     "output_type": "stream",
     "text": [
      "LlamaForCausalLM(\n",
      "  (model): LlamaModel(\n",
      "    (embed_tokens): Embedding(32000, 4096, padding_idx=0)\n",
      "    (layers): ModuleList(\n",
      "      (0-31): 32 x LlamaDecoderLayer(\n",
      "        (self_attn): LlamaAttention(\n",
      "          (q_proj): Linear4bit(in_features=4096, out_features=4096, bias=False)\n",
      "          (k_proj): Linear4bit(in_features=4096, out_features=4096, bias=False)\n",
      "          (v_proj): Linear4bit(in_features=4096, out_features=4096, bias=False)\n",
      "          (o_proj): Linear4bit(in_features=4096, out_features=4096, bias=False)\n",
      "          (rotary_emb): LlamaRotaryEmbedding()\n",
      "        )\n",
      "        (mlp): LlamaMLP(\n",
      "          (gate_proj): Linear4bit(in_features=4096, out_features=11008, bias=False)\n",
      "          (up_proj): Linear4bit(in_features=4096, out_features=11008, bias=False)\n",
      "          (down_proj): Linear4bit(in_features=11008, out_features=4096, bias=False)\n",
      "          (act_fn): SiLUActivation()\n",
      "        )\n",
      "        (input_layernorm): LlamaRMSNorm()\n",
      "        (post_attention_layernorm): LlamaRMSNorm()\n",
      "      )\n",
      "    )\n",
      "    (norm): LlamaRMSNorm()\n",
      "  )\n",
      "  (lm_head): Linear(in_features=4096, out_features=32000, bias=False)\n",
      ")\n"
     ]
    },
    {
     "name": "stderr",
     "output_type": "stream",
     "text": [
      "/archive/evseev/envllm/lib/python3.8/site-packages/transformers/generation/configuration_utils.py:381: UserWarning: `do_sample` is set to `False`. However, `temperature` is set to `0.9` -- this flag is only used in sample-based generation modes. You should set `do_sample=True` or unset `temperature`. This was detected when initializing the generation config instance, which means the corresponding file may hold incorrect parameterization and should be fixed.\n",
      "  warnings.warn(\n",
      "/archive/evseev/envllm/lib/python3.8/site-packages/transformers/generation/configuration_utils.py:386: UserWarning: `do_sample` is set to `False`. However, `top_p` is set to `0.6` -- this flag is only used in sample-based generation modes. You should set `do_sample=True` or unset `top_p`. This was detected when initializing the generation config instance, which means the corresponding file may hold incorrect parameterization and should be fixed.\n",
      "  warnings.warn(\n"
     ]
    }
   ],
   "source": [
    "for i in range(11):\n",
    "    device_map[f\"model.layers.{i}\"] = 0\n",
    "for i in range(11, 24):\n",
    "    device_map[f\"model.layers.{i}\"] = 1\n",
    "for i in range(24, 32):\n",
    "    device_map[f\"model.layers.{i}\"] = 2\n",
    "\n",
    "# \n",
    "model = LlamaForCausalLM.from_pretrained(\n",
    "        BASE_MODEL,\n",
    "        torch_dtype=torch.float16,\n",
    "        load_in_4bit=True,\n",
    "        device_map=device_map,\n",
    "        quantization_config=BitsAndBytesConfig(\n",
    "                            load_in_4bit=True,\n",
    "                            bnb_4bit_compute_dtype=torch.float16,\n",
    "                            bnb_4bit_use_double_quant=True,\n",
    "                            bnb_4bit_quant_type=\"nf4\" # квантинизация в тип normal float 4\n",
    "        )\n",
    ")\n",
    "print(model)"
   ]
  },
  {
   "cell_type": "code",
   "execution_count": null,
   "id": "85b15798",
   "metadata": {},
   "outputs": [],
   "source": [
    "INSTRUCTION = \"Получи данные из запроса.\"\n",
    "\n",
    "\"\"\" \n",
    "Так как это LLM у нее есть возможность считывать до 4096 токенов, но для уменьшения нагрузки на видеокарту мы ограничимся до 500\n",
    "\"\"\"\n",
    "\n",
    "CUTOFF_LEN = 500\n",
    "\n",
    "def generate_prompt(sample):\n",
    "    prompt = f\"{INSTRUCTION}\\nТекст:\\n{sample['Text']}\\nДанные: \"\n",
    "    full_prompt = f\"{INSTRUCTION}\\nТекст:\\n{sample['Text']}\\nДанные:1)Имя:{sample['Имя']},\\n2)Фамилия:{sample['Фамилия']},\\n3)Отчество: {sample['Отчество']},\\n4)Откуда: {sample['Откуда']},\\n5)Куда: {sample['Куда']},\\n6)Дата вылета: {sample['Дата вылета']},\\n7)Время вылета: {sample['Время вылета']},\\n8)Количество взрослых: {sample['Количество взрослых']},\\n9)Количество детей: {sample['Количество детей']},\\n10)Класс: {sample['Класс']},\\n11)Багажник: {sample['Багажник']}\"\n",
    "    \n",
    "    if len(tokenizer(full_prompt)[\"input_ids\"]) > CUTOFF_LEN:\n",
    "        sentence = sample[\"text\"].split(\".  \")\n",
    "        while True:\n",
    "            sentence = sentence[:-1]\n",
    "            text = \". \".join(sentence)\n",
    "            prompt = f\"{INSTRUCTION}\\nТекст:\\n{sample[text]}\\nДанные: \"\n",
    "            full_prompt = f\"{INSTRUCTION}\\nТекст:\\n{sample[text]}\\nДанные:1)Имя:{sample['Имя']},\\n2)Фамилия:{sample['Фамилия']},\\n3)Отчество: {sample['Отчество']},\\n4)Откуда: {sample['Откуда']},\\n5)Куда: {sample['Куда']},\\n6)Дата вылета: {sample['Дата вылета']},\\n7)Время вылета: {sample['Время вылета']},\\n8)Количество взрослых: {sample['Количество взрослых']},\\n9)Количество детей: {sample['Количество детей']},\\n10)Класс: {sample['Класс']},\\n11)Багажник: {sample['Багажник']}\"\n",
    "            if len(tokenizer(full_prompt)[\"input_ids\"]) < CUTOFF_LEN:\n",
    "                   break\n",
    "                   \n",
    "    return prompt, full_prompt\n",
    "\n",
    "\n"
   ]
  },
  {
   "cell_type": "code",
   "execution_count": 7,
   "id": "bd6d015c",
   "metadata": {},
   "outputs": [],
   "source": [
    "def tokenize(prompt, full_prompt, add_eos_token=True):\n",
    "    result = tokenizer(\n",
    "            full_prompt,\n",
    "            padding=False,\n",
    "            return_tensors=None,\n",
    "    )\n",
    "    if (\n",
    "            result[\"input_ids\"][-1] != tokenizer.eos_token_id\n",
    "            and len(result[\"input_ids\"]) < CUTOFF_LEN \n",
    "            and add_eos_token\n",
    "    ):\n",
    "        result[\"input_ids\"].append(tokenizer.eos_token_id)\n",
    "        result[\"attention_mask\"].append(1)\n",
    "    prompt_len = len(tokenizer(prompt)[\"input_ids\"])\n",
    "    labels = result[\"input_ids\"].copy()\n",
    "    labels = [-100 for _ in range(prompt_len)] + labels[prompt_len:]\n",
    "    result[\"labels\"] = labels\n",
    "    \n",
    "    return result\n",
    "def generate_and_tokenizer_prompt(sample):\n",
    "    prompt, full_prompt = generate_prompt(sample)\n",
    "    tokenized_full_prompt = tokenize(prompt, full_prompt)\n",
    "\n",
    "    return tokenized_full_prompt"
   ]
  },
  {
   "cell_type": "code",
   "execution_count": 8,
   "id": "001a470b",
   "metadata": {
    "lines_to_next_cell": 2
   },
   "outputs": [
    {
     "name": "stderr",
     "output_type": "stream",
     "text": [
      "2023-11-20 20:20:19.129529: I tensorflow/core/platform/cpu_feature_guard.cc:182] This TensorFlow binary is optimized to use available CPU instructions in performance-critical operations.\n",
      "To enable the following instructions: AVX2 FMA, in other operations, rebuild TensorFlow with the appropriate compiler flags.\n",
      "2023-11-20 20:20:19.865414: W tensorflow/compiler/tf2tensorrt/utils/py_utils.cc:38] TF-TRT Warning: Could not find TensorRT\n"
     ]
    }
   ],
   "source": [
    "train_data = list(map(generate_and_tokenizer_prompt, train_data))\n",
    "test_data = list(map(generate_and_tokenizer_prompt, test_data))\n",
    "\n",
    "data_collator = transformers.DataCollatorForSeq2Seq(\n",
    "                tokenizer, pad_to_multiple_of=8, return_tensors=\"pt\", padding=True, label_pad_token_id=-100\n",
    ")"
   ]
  },
  {
   "cell_type": "code",
   "execution_count": 9,
   "id": "f78161cf",
   "metadata": {
    "lines_to_next_cell": 2
   },
   "outputs": [],
   "source": [
    "LORA_R = 8 # Количество слоев для Lora\n",
    "\n",
    "LORA_ALPHA = 16 # Вес для слоев\n",
    "LORA_DROPOUT = 0.05\n",
    "\n",
    "LORA_TERGET_MODULES = [\n",
    "    \"q_proj\",\n",
    "    \"v_proj\",\n",
    "]\n",
    "\n",
    "config = LoraConfig(\n",
    "        r=LORA_R,\n",
    "        lora_alpha=LORA_ALPHA,\n",
    "        target_modules=LORA_TERGET_MODULES,\n",
    "        lora_dropout=LORA_DROPOUT,\n",
    "        bias=\"none\",\n",
    "        task_type=\"CASUAL_LM\",\n",
    ")"
   ]
  },
  {
   "cell_type": "code",
   "execution_count": 10,
   "id": "16f09448",
   "metadata": {},
   "outputs": [
    {
     "name": "stdout",
     "output_type": "stream",
     "text": [
      "trainable params: 4,194,304 || all params: 6,742,609,920 || trainable%: 0.06220594176090199\n"
     ]
    }
   ],
   "source": [
    "\n",
    "model = get_peft_model(model, config)\n",
    "\n",
    "model.print_trainable_parameters()"
   ]
  },
  {
   "cell_type": "code",
   "execution_count": 11,
   "id": "97950ac7",
   "metadata": {},
   "outputs": [],
   "source": [
    "BATCH_SIZE = 1\n",
    "TRAIN_EPOCHS = 3\n",
    "MICRO_BATCH_SIZE = 1\n",
    "GRADIENT_ACCUMULATION_STEPS = BATCH_SIZE // MICRO_BATCH_SIZE # Как часто обновление весорв\n",
    "LEARNING_RATE = 3e-4\n",
    "\n",
    "OUTPUT_DIR = \"AIR_DATA\"\n",
    "\n",
    "training_arguments = transformers.TrainingArguments(\n",
    "                    per_device_train_batch_size=MICRO_BATCH_SIZE,\n",
    "                    per_device_eval_batch_size=MICRO_BATCH_SIZE,\n",
    "                    gradient_accumulation_steps=GRADIENT_ACCUMULATION_STEPS,\n",
    "                    warmup_steps=100,\n",
    "                    max_steps=2000,\n",
    "                    num_train_epochs=TRAIN_EPOCHS,\n",
    "                    learning_rate=LEARNING_RATE, \n",
    "                    fp16=True,\n",
    "                    logging_steps=100,\n",
    "                    optim=\"adamw_torch\",\n",
    "                    label_names=[\"labels\"],\n",
    "                    evaluation_strategy=\"steps\",\n",
    "                    save_strategy=\"steps\",\n",
    "                    eval_steps=100,\n",
    "                    save_steps=100,\n",
    "                    output_dir=OUTPUT_DIR,\n",
    "                    save_total_limit=3,\n",
    "                    load_best_model_at_end=True,\n",
    "                    report_to=\"none\"\n",
    ")\n"
   ]
  },
  {
   "cell_type": "code",
   "execution_count": 12,
   "id": "74cdbe9d",
   "metadata": {},
   "outputs": [],
   "source": [
    "trainer = transformers.Trainer(\n",
    "    model=model,\n",
    "    train_dataset=train_data,\n",
    "    eval_dataset=test_data,\n",
    "    args=training_arguments,\n",
    "    data_collator=data_collator,\n",
    ")"
   ]
  },
  {
   "cell_type": "code",
   "execution_count": 13,
   "id": "670c2854",
   "metadata": {},
   "outputs": [],
   "source": [
    "model.config.use_cache=False\n",
    "model=torch.compile(model)"
   ]
  },
  {
   "cell_type": "code",
   "execution_count": 14,
   "id": "3442ecd0",
   "metadata": {},
   "outputs": [
    {
     "data": {
      "text/html": [
       "\n",
       "    <div>\n",
       "      \n",
       "      <progress value='2000' max='2000' style='width:300px; height:20px; vertical-align: middle;'></progress>\n",
       "      [2000/2000 09:17, Epoch 28/29]\n",
       "    </div>\n",
       "    <table border=\"1\" class=\"dataframe\">\n",
       "  <thead>\n",
       " <tr style=\"text-align: left;\">\n",
       "      <th>Step</th>\n",
       "      <th>Training Loss</th>\n",
       "      <th>Validation Loss</th>\n",
       "    </tr>\n",
       "  </thead>\n",
       "  <tbody>\n",
       "    <tr>\n",
       "      <td>100</td>\n",
       "      <td>0.252000</td>\n",
       "      <td>0.034003</td>\n",
       "    </tr>\n",
       "    <tr>\n",
       "      <td>200</td>\n",
       "      <td>0.036100</td>\n",
       "      <td>0.042662</td>\n",
       "    </tr>\n",
       "    <tr>\n",
       "      <td>300</td>\n",
       "      <td>0.024100</td>\n",
       "      <td>0.039767</td>\n",
       "    </tr>\n",
       "    <tr>\n",
       "      <td>400</td>\n",
       "      <td>0.013500</td>\n",
       "      <td>0.039640</td>\n",
       "    </tr>\n",
       "    <tr>\n",
       "      <td>500</td>\n",
       "      <td>0.008100</td>\n",
       "      <td>0.037471</td>\n",
       "    </tr>\n",
       "    <tr>\n",
       "      <td>600</td>\n",
       "      <td>0.002200</td>\n",
       "      <td>0.039664</td>\n",
       "    </tr>\n",
       "    <tr>\n",
       "      <td>700</td>\n",
       "      <td>0.001500</td>\n",
       "      <td>0.034235</td>\n",
       "    </tr>\n",
       "    <tr>\n",
       "      <td>800</td>\n",
       "      <td>0.000300</td>\n",
       "      <td>0.042654</td>\n",
       "    </tr>\n",
       "    <tr>\n",
       "      <td>900</td>\n",
       "      <td>0.000200</td>\n",
       "      <td>0.045160</td>\n",
       "    </tr>\n",
       "    <tr>\n",
       "      <td>1000</td>\n",
       "      <td>0.000100</td>\n",
       "      <td>0.045505</td>\n",
       "    </tr>\n",
       "    <tr>\n",
       "      <td>1100</td>\n",
       "      <td>0.000100</td>\n",
       "      <td>0.046270</td>\n",
       "    </tr>\n",
       "    <tr>\n",
       "      <td>1200</td>\n",
       "      <td>0.000100</td>\n",
       "      <td>0.047014</td>\n",
       "    </tr>\n",
       "    <tr>\n",
       "      <td>1300</td>\n",
       "      <td>0.000100</td>\n",
       "      <td>0.047687</td>\n",
       "    </tr>\n",
       "    <tr>\n",
       "      <td>1400</td>\n",
       "      <td>0.000100</td>\n",
       "      <td>0.047947</td>\n",
       "    </tr>\n",
       "    <tr>\n",
       "      <td>1500</td>\n",
       "      <td>0.000100</td>\n",
       "      <td>0.048547</td>\n",
       "    </tr>\n",
       "    <tr>\n",
       "      <td>1600</td>\n",
       "      <td>0.000100</td>\n",
       "      <td>0.048831</td>\n",
       "    </tr>\n",
       "    <tr>\n",
       "      <td>1700</td>\n",
       "      <td>0.000100</td>\n",
       "      <td>0.049156</td>\n",
       "    </tr>\n",
       "    <tr>\n",
       "      <td>1800</td>\n",
       "      <td>0.000100</td>\n",
       "      <td>0.049356</td>\n",
       "    </tr>\n",
       "    <tr>\n",
       "      <td>1900</td>\n",
       "      <td>0.000100</td>\n",
       "      <td>0.049369</td>\n",
       "    </tr>\n",
       "    <tr>\n",
       "      <td>2000</td>\n",
       "      <td>0.000100</td>\n",
       "      <td>0.049401</td>\n",
       "    </tr>\n",
       "  </tbody>\n",
       "</table><p>"
      ],
      "text/plain": [
       "<IPython.core.display.HTML object>"
      ]
     },
     "metadata": {},
     "output_type": "display_data"
    },
    {
     "data": {
      "text/plain": [
       "TrainOutput(global_step=2000, training_loss=0.016953986204694956, metrics={'train_runtime': 559.2275, 'train_samples_per_second': 3.576, 'train_steps_per_second': 3.576, 'total_flos': 1.802125403160576e+16, 'train_loss': 0.016953986204694956, 'epoch': 28.17})"
      ]
     },
     "execution_count": 14,
     "metadata": {},
     "output_type": "execute_result"
    }
   ],
   "source": [
    "trainer.train()"
   ]
  },
  {
   "cell_type": "code",
   "execution_count": 15,
   "id": "eacb6a03",
   "metadata": {},
   "outputs": [],
   "source": [
    "model.save_pretrained(OUTPUT_DIR)"
   ]
  },
  {
   "cell_type": "code",
   "execution_count": 16,
   "id": "63786dcf",
   "metadata": {},
   "outputs": [],
   "source": [
    "#Генерация"
   ]
  },
  {
   "cell_type": "code",
   "execution_count": 17,
   "id": "d93e6090",
   "metadata": {},
   "outputs": [],
   "source": [
    "import torch\n",
    "from peft import PeftModel\n",
    "import transformers\n",
    "from transformers import LlamaTokenizer, LlamaForCausalLM, GenerationConfig"
   ]
  },
  {
   "cell_type": "code",
   "execution_count": 18,
   "id": "359b38f5",
   "metadata": {},
   "outputs": [
    {
     "data": {
      "application/vnd.jupyter.widget-view+json": {
       "model_id": "",
       "version_major": 2,
       "version_minor": 0
      },
      "text/plain": [
       "Loading checkpoint shards:   0%|          | 0/3 [00:00<?, ?it/s]"
      ]
     },
     "metadata": {},
     "output_type": "display_data"
    },
    {
     "name": "stderr",
     "output_type": "stream",
     "text": [
      "/archive/evseev/envllm/lib/python3.8/site-packages/transformers/generation/configuration_utils.py:381: UserWarning: `do_sample` is set to `False`. However, `temperature` is set to `0.9` -- this flag is only used in sample-based generation modes. You should set `do_sample=True` or unset `temperature`. This was detected when initializing the generation config instance, which means the corresponding file may hold incorrect parameterization and should be fixed.\n",
      "  warnings.warn(\n",
      "/archive/evseev/envllm/lib/python3.8/site-packages/transformers/generation/configuration_utils.py:386: UserWarning: `do_sample` is set to `False`. However, `top_p` is set to `0.6` -- this flag is only used in sample-based generation modes. You should set `do_sample=True` or unset `top_p`. This was detected when initializing the generation config instance, which means the corresponding file may hold incorrect parameterization and should be fixed.\n",
      "  warnings.warn(\n"
     ]
    }
   ],
   "source": [
    "DEVICE = \"cuda\" if torch.cuda.is_available() else \"cpu\"\n",
    "\n",
    "BASE_MODEL = \"/archive/evseev/.deeppavlov/downloads/torch_trnsf_models/llama-2-7b-hf\"\n",
    "\n",
    "tokenizer = LlamaTokenizer.from_pretrained(BASE_MODEL)\n",
    "\n",
    "model = LlamaForCausalLM.from_pretrained(\n",
    "        BASE_MODEL,\n",
    "        load_in_8bit=False,\n",
    "        device_map=\"auto\",\n",
    ")\n",
    "\n",
    "model = PeftModel.from_pretrained(model,\"/archive/evseev/test_saiga/Retrieve_formatting/Experiment_Saiga/AIR_DATA/checkpoint-2000\",torch_dtype=torch.float16)"
   ]
  },
  {
   "cell_type": "code",
   "execution_count": 19,
   "id": "38360197",
   "metadata": {},
   "outputs": [],
   "source": [
    "model.config.pad_token_id = tokenizer.pad_token_id = 0\n",
    "model.config.bos_token_id=1\n",
    "model.config.eos_token_id=2"
   ]
  },
  {
   "cell_type": "code",
   "execution_count": 20,
   "id": "9bbe92da",
   "metadata": {},
   "outputs": [],
   "source": [
    "model = model.eval()\n",
    "model = torch.compile(model)"
   ]
  },
  {
   "cell_type": "code",
   "execution_count": 21,
   "id": "3c0f773c",
   "metadata": {},
   "outputs": [],
   "source": [
    "INSTRUCTION = \"Получи все данные из запроса.\""
   ]
  },
  {
   "cell_type": "code",
   "execution_count": 22,
   "id": "5ea04193",
   "metadata": {},
   "outputs": [],
   "source": [
    "def generate_response(prompt,model):\n",
    "    encoding = tokenizer(prompt, return_tensors=\"pt\")\n",
    "    input_ids = encoding[\"input_ids\"].to(DEVICE)\n",
    "    \n",
    "    generation_config = GenerationConfig(\n",
    "                        temperature=0.1,\n",
    "                        top_p=0.75,\n",
    "                        repetition_penalty=1.1,\n",
    "    )\n",
    "    \n",
    "    with torch.inference_mode():\n",
    "        return model.generate(\n",
    "                input_ids=input_ids,\n",
    "                generation_config=generation_config,\n",
    "                return_dict_in_generate=True,\n",
    "                output_scores=True,\n",
    "                max_new_tokens=128,\n",
    "        )"
   ]
  },
  {
   "cell_type": "code",
   "execution_count": 27,
   "id": "3e92f721",
   "metadata": {},
   "outputs": [],
   "source": [
    "def generate_ticket(text,model):\n",
    "    prompt = f\"{INSTRUCTION}\\nТекст:\\n{text}\\nДанные:\"\n",
    "    response = generate_response(prompt, model)\n",
    "    decoded_output = tokenizer.decode(response.sequences[0], skip_special_tokens=True)\n",
    "    decoded_output_lines=decoded_output.split(\"\\n\")\n",
    "    for otvet in decoded_output_lines:\n",
    "        print(otvet)"
   ]
  },
  {
   "cell_type": "code",
   "execution_count": 28,
   "id": "6b94365e",
   "metadata": {},
   "outputs": [],
   "source": [
    "text = \"Здравствуйте! Меня зовут Константин Алексеевич Сергеевич. Хочу забронировать один билет бизнес-класса с багажом из Новосибирска в Москву 20 июля в 10:00.\""
   ]
  },
  {
   "cell_type": "code",
   "execution_count": 29,
   "id": "3729bd60",
   "metadata": {},
   "outputs": [
    {
     "name": "stdout",
     "output_type": "stream",
     "text": [
      "Получи все данные из запроса.\n",
      "Текст:\n",
      "Здравствуйте! Меня зовут Константин Алексеевич Сергеевич. Хочу забронировать один билет бизнес-класса с багажом из Новосибирска в Москву 20 июля в 10:00.\n",
      "Данные:\n",
      "Имя:Константин,\n",
      "Фамилия:Алексеев,\n",
      "Отчество:Сергеевич,\n",
      "Откуда:Новосибирск,\n",
      "Куда:Москва,\n",
      "Дата вылета:20.07.2023,\n",
      "Время вылета:10:00,\n",
      "Количество взрослых:1,\n",
      "Количество детей:0,\n",
      "Класс:Бизнес,\n",
      "Багажник:Да\n"
     ]
    }
   ],
   "source": [
    "generate_ticket(text,model)\n"
   ]
  }
 ],
 "metadata": {
  "jupytext": {
   "cell_metadata_filter": "-all",
   "main_language": "python",
   "notebook_metadata_filter": "-all"
  },
  "kernelspec": {
   "display_name": "Python 3 (ipykernel)",
   "language": "python",
   "name": "python3"
  },
  "language_info": {
   "codemirror_mode": {
    "name": "ipython",
    "version": 3
   },
   "file_extension": ".py",
   "mimetype": "text/x-python",
   "name": "python",
   "nbconvert_exporter": "python",
   "pygments_lexer": "ipython3",
   "version": "3.8.10"
  }
 },
 "nbformat": 4,
 "nbformat_minor": 5
}
