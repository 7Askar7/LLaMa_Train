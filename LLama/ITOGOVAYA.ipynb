{
 "cells": [
  {
   "cell_type": "code",
   "execution_count": 1,
   "id": "f497313f",
   "metadata": {},
   "outputs": [],
   "source": [
    "import math\n",
    "import pickle\n",
    "import numpy as np\n",
    "import torch\n",
    "import transformers \n",
    "from transformers import LlamaTokenizer, LlamaForCausalLM, BitsAndBytesConfig\n",
    "\n",
    "from peft import ( \n",
    "    LoraConfig,\n",
    "    get_peft_model\n",
    ")"
   ]
  },
  {
   "cell_type": "code",
   "execution_count": 2,
   "id": "12d82106",
   "metadata": {},
   "outputs": [],
   "source": [
    "\n",
    "DEVICE = \"cuda\" if torch.cuda.is_available() else \"cpu\"\n",
    "\n",
    "BASE_MODEL = \"/archive/evseev/.deeppavlov/downloads/torch_trnsf_models/llama-2-7b-hf\"\n",
    "\n",
    "tokenizer = LlamaTokenizer.from_pretrained(BASE_MODEL)\n",
    "\n",
    "tokenizer.pad_token_id = 0\n",
    "\n",
    "tokenizer.padding_side = \"left\""
   ]
  },
  {
   "cell_type": "code",
   "execution_count": 4,
   "id": "aa877a01",
   "metadata": {},
   "outputs": [
    {
     "name": "stdout",
     "output_type": "stream",
     "text": [
      "{'Имя': 'Антонина', 'Фамилия': 'Попова', 'Отчество': 'Игоревна', 'Откуда': 'Краснодар', 'Куда': 'Москва', 'Дата вылета': '05.12.2023', 'Время вылета': nan, 'Количество взрослых': 1, 'Количество детей': 0, 'Класс': 'Бизнес', 'Багажник': 'Нет', 'error': 'Введите пожалуйста, время вылета', 'Text': 'Добрый день! Меня зовут Антонина Игоревна Попова. Планирую полететь из Краснодара в Москву 5 декабря. Бронирую один билет бизнес-класса без багажа.'}\n"
     ]
    }
   ],
   "source": [
    "from sklearn.model_selection import train_test_split\n",
    "import pandas as pd\n",
    "\n",
    "\n",
    "dataset = pd.read_csv(\"/archive/evseev/test_saiga/Retrieve_formatting/Experiment_Saiga/experiments/Data_LLM.csv\")\n",
    "dataset = dataset.applymap(lambda x: \"\" if x == \"Не указано\" else x)\n",
    "dataset['Количество детей'] = dataset['Количество детей'].apply(lambda x: 0 if pd.isna(x) else x)\n",
    "dataset['Количество детей'] = dataset['Количество детей'].astype(int)\n",
    "dataset = dataset.to_dict('records')\n",
    "print(dataset[0])"
   ]
  },
  {
   "cell_type": "code",
   "execution_count": 5,
   "id": "bcc82fdd",
   "metadata": {},
   "outputs": [
    {
     "name": "stdout",
     "output_type": "stream",
     "text": [
      "test_data [{'Имя': 'Алёна', 'Фамилия': 'Савина', 'Отчество': '', 'Откуда': 'Копенгаген', 'Куда': 'Осло', 'Дата вылета': '12.05.2023', 'Время вылета': '', 'Количество взрослых': 1, 'Количество детей': 0, 'Класс': 'Эконом', 'Багажник': 'Нет', 'error': 'Вы не указали отчество и время', 'Text': 'Здравствуйте! Меня зовут Алёна Савина, и я хочу забронировать билет из Копенгагена в Осло на 12 мая. Готова оплатить онлайн, укажите реквизиты.'}, {'Имя': 'Лилия', 'Фамилия': 'Смирнова', 'Отчество': '', 'Откуда': '', 'Куда': 'Сингапур', 'Дата вылета': '18.09.2023', 'Время вылета': '9:45', 'Количество взрослых': 1, 'Количество детей': 0, 'Класс': 'Бизнес', 'Багажник': 'Нет', 'error': 'Вы не указали отчество.', 'Text': 'Заказ билета бизнес-класса в Сингапур на 18 сентября в 09:45.'}, {'Имя': 'Эмильяно', 'Фамилия': 'Родригес', 'Отчество': '', 'Откуда': 'Рио-де-Жанейро', 'Куда': 'Пекин', 'Дата вылета': '03.05.2023', 'Время вылета': '15:15', 'Количество взрослых': 2, 'Количество детей': 2, 'Класс': 'Эконом', 'Багажник': 'Да', 'error': 'Вы не указали отчество.', 'Text': 'Заказ двух взрослых и двух детских билетов из Рио-де-Жанейро в Пекин на 3 мая в 15:15 в эконом-классе с багажом.'}, {'Имя': 'Сергей', 'Фамилия': 'Борисов', 'Отчество': 'Александрович', 'Откуда': 'Санкт-Петербург', 'Куда': 'Владивосток', 'Дата вылета': '10.09.2023', 'Время вылета': '23:00', 'Количество взрослых': 0, 'Количество детей': 2, 'Класс': 'Эконом', 'Багажник': 'Да', 'error': '', 'Text': 'Здравствуйте! Меня зовут Сергей Борисов Александрович. Хочу забронировать два билета эконом-класса с багажом для детей 2 и 4 лет из Санкт-Петербурга во Владивосток 10 сентября в 23:00.'}, {'Имя': 'Кириллов', 'Фамилия': 'Андрей', 'Отчество': 'Викторович', 'Откуда': 'Москва', 'Куда': 'Стамбул', 'Дата вылета': '20.07.2023', 'Время вылета': '10:00', 'Количество взрослых': 1, 'Количество детей': 0, 'Класс': 'Бизнес', 'Багажник': 'Нет', 'error': '', 'Text': 'Бронирование одного билета из Москвы в Стамбул 20 июля в 10:00 для одного человека в бизнес-классе без багажа.'}, {'Имя': 'Оливия', 'Фамилия': 'Морозова', 'Отчество': '', 'Откуда': 'Мадрид', 'Куда': 'Стамбул', 'Дата вылета': '05.08.2023', 'Время вылета': '18:20', 'Количество взрослых': 2, 'Количество детей': 0, 'Класс': 'Бизнес', 'Багажник': 'Да', 'error': 'Вы не указали отчество.', 'Text': 'Заказ двух билетов бизнес-класса из Мадрида в Стамбул на 5 августа в 18:20. Багаж включен.'}, {'Имя': 'Елена', 'Фамилия': 'Михайлова', 'Отчество': '', 'Откуда': 'Вена', 'Куда': 'Прага', 'Дата вылета': '22.09.2023', 'Время вылета': '', 'Количество взрослых': 1, 'Количество детей': 0, 'Класс': 'Эконом', 'Багажник': 'Нет', 'error': 'Вы не указали отчество и время', 'Text': 'Добрый день! Я Елена Михайлова, и я хочу забронировать билет из Вены в Прагу на 22 сентября. Подскажите, пожалуйста, какие варианты оплаты у вас есть.'}, {'Имя': 'Игорь', 'Фамилия': 'Поляков', 'Отчество': '', 'Откуда': 'Хельсинки', 'Куда': 'Стокгольм', 'Дата вылета': '05.03.2023', 'Время вылета': '', 'Количество взрослых': 2, 'Количество детей': 0, 'Класс': 'Эконом', 'Багажник': 'Нет', 'error': 'Вы не указали отчество и время', 'Text': 'Привет! Я Игорь Поляков, и мне нужны два билета из Хельсинки в Стокгольм на 5 марта. Оплатил бронь, жду билеты по электронной почте.'}]\n"
     ]
    }
   ],
   "source": [
    "for i in range(len(dataset)):\n",
    "    sample = dataset[i]\n",
    "    for key in sample:\n",
    "        if not isinstance(sample[key], str) and math.isnan(sample[key]):\n",
    "            sample[key] = \"\"\n",
    "    dataset[i] = sample\n",
    "\n",
    "train_data, test_data = train_test_split(dataset, test_size = 0.1)\n",
    "\n",
    "print(\"test_data\", test_data)\n",
    "\n",
    "device_map = device_map = {\n",
    "    \"model.embed_tokens\": 0,\n",
    "    \"model.norm\": 2,\n",
    "    \"lm_head\": 2\n",
    "}"
   ]
  },
  {
   "cell_type": "code",
   "execution_count": 6,
   "id": "c3b6f308",
   "metadata": {},
   "outputs": [
    {
     "data": {
      "application/vnd.jupyter.widget-view+json": {
       "model_id": "7594565cf5024ba380b297c64dbaf95d",
       "version_major": 2,
       "version_minor": 0
      },
      "text/plain": [
       "Loading checkpoint shards:   0%|          | 0/3 [00:00<?, ?it/s]"
      ]
     },
     "metadata": {},
     "output_type": "display_data"
    },
    {
     "name": "stdout",
     "output_type": "stream",
     "text": [
      "LlamaForCausalLM(\n",
      "  (model): LlamaModel(\n",
      "    (embed_tokens): Embedding(32000, 4096, padding_idx=0)\n",
      "    (layers): ModuleList(\n",
      "      (0-31): 32 x LlamaDecoderLayer(\n",
      "        (self_attn): LlamaAttention(\n",
      "          (q_proj): Linear4bit(in_features=4096, out_features=4096, bias=False)\n",
      "          (k_proj): Linear4bit(in_features=4096, out_features=4096, bias=False)\n",
      "          (v_proj): Linear4bit(in_features=4096, out_features=4096, bias=False)\n",
      "          (o_proj): Linear4bit(in_features=4096, out_features=4096, bias=False)\n",
      "          (rotary_emb): LlamaRotaryEmbedding()\n",
      "        )\n",
      "        (mlp): LlamaMLP(\n",
      "          (gate_proj): Linear4bit(in_features=4096, out_features=11008, bias=False)\n",
      "          (up_proj): Linear4bit(in_features=4096, out_features=11008, bias=False)\n",
      "          (down_proj): Linear4bit(in_features=11008, out_features=4096, bias=False)\n",
      "          (act_fn): SiLUActivation()\n",
      "        )\n",
      "        (input_layernorm): LlamaRMSNorm()\n",
      "        (post_attention_layernorm): LlamaRMSNorm()\n",
      "      )\n",
      "    )\n",
      "    (norm): LlamaRMSNorm()\n",
      "  )\n",
      "  (lm_head): Linear(in_features=4096, out_features=32000, bias=False)\n",
      ")\n"
     ]
    },
    {
     "name": "stderr",
     "output_type": "stream",
     "text": [
      "/archive/evseev/envllm/lib/python3.8/site-packages/transformers/generation/configuration_utils.py:381: UserWarning: `do_sample` is set to `False`. However, `temperature` is set to `0.9` -- this flag is only used in sample-based generation modes. You should set `do_sample=True` or unset `temperature`. This was detected when initializing the generation config instance, which means the corresponding file may hold incorrect parameterization and should be fixed.\n",
      "  warnings.warn(\n",
      "/archive/evseev/envllm/lib/python3.8/site-packages/transformers/generation/configuration_utils.py:386: UserWarning: `do_sample` is set to `False`. However, `top_p` is set to `0.6` -- this flag is only used in sample-based generation modes. You should set `do_sample=True` or unset `top_p`. This was detected when initializing the generation config instance, which means the corresponding file may hold incorrect parameterization and should be fixed.\n",
      "  warnings.warn(\n"
     ]
    }
   ],
   "source": [
    "for i in range(11):\n",
    "    device_map[f\"model.layers.{i}\"] = 0\n",
    "for i in range(11, 24):\n",
    "    device_map[f\"model.layers.{i}\"] = 1\n",
    "for i in range(24, 32):\n",
    "    device_map[f\"model.layers.{i}\"] = 2\n",
    "\n",
    "model = LlamaForCausalLM.from_pretrained(\n",
    "        BASE_MODEL,\n",
    "        torch_dtype=torch.float16,\n",
    "        load_in_4bit=True,\n",
    "        device_map=device_map,\n",
    "        quantization_config=BitsAndBytesConfig(\n",
    "                            load_in_4bit=True,\n",
    "                            bnb_4bit_compute_dtype=torch.float16,\n",
    "                            bnb_4bit_use_double_quant=True,\n",
    "                            bnb_4bit_quant_type=\"nf4\"\n",
    "        )\n",
    ")\n",
    "print(model)"
   ]
  },
  {
   "cell_type": "code",
   "execution_count": 7,
   "id": "128ce4c3",
   "metadata": {},
   "outputs": [],
   "source": [
    "INSTRUCTION = \"Получи данные из запроса: Имя, Фамилия, Отчество, Откуда, Куда, Дата вылета, Время вылета, Количество взрослых,Количество детей,Класс,Багаж. Если какой-то из параметров пользователь не указал, сгенерируй 'Не найдено' \"\n",
    "\n",
    "CUTOFF_LEN = 600\n",
    "\n",
    "def generate_prompt(sample):\n",
    "    prompt = f\"{INSTRUCTION}\\nТекст:\\n{sample['Text']}\\nДанные: \"\n",
    "    full_prompt = f\"{INSTRUCTION}\\nТекст:\\n{sample['Text']}\\nДанные:1)Имя:{sample['Имя']},\\n2)Фамилия:{sample['Фамилия']},\\n3)Отчество: {sample['Отчество']},\\n4)Откуда: {sample['Откуда']},\\n5)Куда: {sample['Куда']},\\n6)Дата вылета: {sample['Дата вылета']},\\n7)Время вылета: {sample['Время вылета']},\\n8)Количество взрослых: {sample['Количество взрослых']},\\n9)Количество детей: {sample['Количество детей']},\\n10)Класс: {sample['Класс']},\\n11)Багажник: {sample['Багажник']}.\\nОшибки: {sample['error']}\"\n",
    "    \n",
    "    if len(tokenizer(full_prompt)[\"input_ids\"]) > CUTOFF_LEN:\n",
    "        sentence = sample[\"text\"].split(\".  \")\n",
    "        while True:\n",
    "            sentence = sentence[:-1]\n",
    "            text = \". \".join(sentence)\n",
    "            prompt = f\"{INSTRUCTION}\\nТекст:\\n{sample[text]}\\nДанные: \"\n",
    "            full_prompt = f\"{INSTRUCTION}\\nТекст:\\n{sample[text]}\\nДанные:1)Имя:{sample['Имя']},\\n2)Фамилия:{sample['Фамилия']},\\n3)Отчество: {sample['Отчество']},\\n4)Откуда: {sample['Откуда']},\\n5)Куда: {sample['Куда']},\\n6)Дата вылета: {sample['Дата вылета']},\\n7)Время вылета: {sample['Время вылета']},\\n8)Количество взрослых: {sample['Количество взрослых']},\\n9)Количество детей: {sample['Количество детей']},\\n10)Класс: {sample['Класс']},\\n11)Багажник: {sample['Багажник']}. Ошибки: {sample['error']}\"\n",
    "            if len(tokenizer(full_prompt)[\"input_ids\"]) < CUTOFF_LEN:\n",
    "                   break\n",
    "                   \n",
    "    return prompt, full_prompt\n",
    "\n",
    "\n"
   ]
  },
  {
   "cell_type": "code",
   "execution_count": 8,
   "id": "cb54c0d4",
   "metadata": {},
   "outputs": [],
   "source": [
    "def tokenize(prompt, full_prompt, add_eos_token=True):\n",
    "    result = tokenizer(\n",
    "            full_prompt,\n",
    "            padding=False,\n",
    "            return_tensors=None,\n",
    "    )\n",
    "    if (\n",
    "            result[\"input_ids\"][-1] != tokenizer.eos_token_id\n",
    "            and len(result[\"input_ids\"]) < CUTOFF_LEN \n",
    "            and add_eos_token\n",
    "    ):\n",
    "        result[\"input_ids\"].append(tokenizer.eos_token_id)\n",
    "        result[\"attention_mask\"].append(1)\n",
    "    prompt_len = len(tokenizer(prompt)[\"input_ids\"])\n",
    "    labels = result[\"input_ids\"].copy()\n",
    "    labels = [-100 for _ in range(prompt_len)] + labels[prompt_len:]\n",
    "    result[\"labels\"] = labels\n",
    "    \n",
    "    return result\n",
    "def generate_and_tokenizer_prompt(sample):\n",
    "    prompt, full_prompt = generate_prompt(sample)\n",
    "    tokenized_full_prompt = tokenize(prompt, full_prompt)\n",
    "\n",
    "    return tokenized_full_prompt"
   ]
  },
  {
   "cell_type": "code",
   "execution_count": 9,
   "id": "24cd41d5",
   "metadata": {
    "lines_to_next_cell": 2
   },
   "outputs": [
    {
     "name": "stderr",
     "output_type": "stream",
     "text": [
      "2023-11-22 17:39:39.204078: I tensorflow/core/platform/cpu_feature_guard.cc:182] This TensorFlow binary is optimized to use available CPU instructions in performance-critical operations.\n",
      "To enable the following instructions: AVX2 FMA, in other operations, rebuild TensorFlow with the appropriate compiler flags.\n",
      "2023-11-22 17:39:43.711361: W tensorflow/compiler/tf2tensorrt/utils/py_utils.cc:38] TF-TRT Warning: Could not find TensorRT\n"
     ]
    }
   ],
   "source": [
    "train_data = list(map(generate_and_tokenizer_prompt, train_data))\n",
    "test_data = list(map(generate_and_tokenizer_prompt, test_data))\n",
    "\n",
    "data_collator = transformers.DataCollatorForSeq2Seq(\n",
    "                tokenizer, pad_to_multiple_of=8, return_tensors=\"pt\", padding=True, label_pad_token_id=-100\n",
    ")"
   ]
  },
  {
   "cell_type": "code",
   "execution_count": 10,
   "id": "58c5f2b0",
   "metadata": {},
   "outputs": [
    {
     "name": "stdout",
     "output_type": "stream",
     "text": [
      "71\n",
      "8\n"
     ]
    }
   ],
   "source": [
    "print(len(train_data))\n",
    "print(len(test_data))"
   ]
  },
  {
   "cell_type": "code",
   "execution_count": 11,
   "id": "280ab1d5",
   "metadata": {
    "lines_to_next_cell": 2
   },
   "outputs": [],
   "source": [
    "LORA_R = 8 \n",
    "\n",
    "LORA_ALPHA = 16\n",
    "LORA_DROPOUT = 0.05\n",
    "\n",
    "LORA_TERGET_MODULES = [\n",
    "    \"q_proj\",\n",
    "    \"v_proj\",\n",
    "]\n",
    "\n",
    "config = LoraConfig(\n",
    "        r=LORA_R,\n",
    "        lora_alpha=LORA_ALPHA,\n",
    "        target_modules=LORA_TERGET_MODULES,\n",
    "        lora_dropout=LORA_DROPOUT,\n",
    "        bias=\"none\",\n",
    "        task_type=\"CASUAL_LM\",\n",
    ")"
   ]
  },
  {
   "cell_type": "code",
   "execution_count": 12,
   "id": "c604911d",
   "metadata": {},
   "outputs": [
    {
     "name": "stdout",
     "output_type": "stream",
     "text": [
      "trainable params: 4,194,304 || all params: 6,742,609,920 || trainable%: 0.06220594176090199\n"
     ]
    }
   ],
   "source": [
    "\n",
    "model = get_peft_model(model, config)\n",
    "\n",
    "model.print_trainable_parameters()"
   ]
  },
  {
   "cell_type": "code",
   "execution_count": 13,
   "id": "e284a2f2",
   "metadata": {},
   "outputs": [],
   "source": [
    "BATCH_SIZE = 1\n",
    "TRAIN_EPOCHS = 3\n",
    "MICRO_BATCH_SIZE = 1\n",
    "GRADIENT_ACCUMULATION_STEPS = BATCH_SIZE // MICRO_BATCH_SIZE\n",
    "LEARNING_RATE = 3e-4\n",
    "\n",
    "OUTPUT_DIR = \"AIR_DATA_LLM\"\n",
    "\n",
    "training_arguments = transformers.TrainingArguments(\n",
    "                    per_device_train_batch_size=MICRO_BATCH_SIZE,\n",
    "                    per_device_eval_batch_size=MICRO_BATCH_SIZE,\n",
    "                    gradient_accumulation_steps=GRADIENT_ACCUMULATION_STEPS,\n",
    "                    warmup_steps=100,\n",
    "                    max_steps=2000,\n",
    "                    num_train_epochs=TRAIN_EPOCHS,\n",
    "                    learning_rate=LEARNING_RATE, \n",
    "                    fp16=True,\n",
    "                    logging_steps=100,\n",
    "                    optim=\"adamw_torch\",\n",
    "                    label_names=[\"labels\"],\n",
    "                    evaluation_strategy=\"steps\",\n",
    "                    save_strategy=\"steps\",\n",
    "                    eval_steps=100,\n",
    "                    save_steps=100,\n",
    "                    output_dir=OUTPUT_DIR,\n",
    "                    save_total_limit=3,\n",
    "                    load_best_model_at_end=True,\n",
    "                    report_to=\"none\"\n",
    ")\n"
   ]
  },
  {
   "cell_type": "code",
   "execution_count": 14,
   "id": "12753b8c",
   "metadata": {},
   "outputs": [],
   "source": [
    "trainer = transformers.Trainer(\n",
    "    model=model,\n",
    "    train_dataset=train_data,\n",
    "    eval_dataset=test_data,\n",
    "    args=training_arguments,\n",
    "    data_collator=data_collator,\n",
    ")"
   ]
  },
  {
   "cell_type": "code",
   "execution_count": 15,
   "id": "ce755c12",
   "metadata": {},
   "outputs": [],
   "source": [
    "model.config.use_cache=False\n",
    "model=torch.compile(model)"
   ]
  },
  {
   "cell_type": "code",
   "execution_count": 16,
   "id": "9eada7c4",
   "metadata": {},
   "outputs": [
    {
     "data": {
      "text/html": [
       "\n",
       "    <div>\n",
       "      \n",
       "      <progress value='2000' max='2000' style='width:300px; height:20px; vertical-align: middle;'></progress>\n",
       "      [2000/2000 07:22, Epoch 28/29]\n",
       "    </div>\n",
       "    <table border=\"1\" class=\"dataframe\">\n",
       "  <thead>\n",
       " <tr style=\"text-align: left;\">\n",
       "      <th>Step</th>\n",
       "      <th>Training Loss</th>\n",
       "      <th>Validation Loss</th>\n",
       "    </tr>\n",
       "  </thead>\n",
       "  <tbody>\n",
       "    <tr>\n",
       "      <td>100</td>\n",
       "      <td>0.231300</td>\n",
       "      <td>0.087516</td>\n",
       "    </tr>\n",
       "    <tr>\n",
       "      <td>200</td>\n",
       "      <td>0.045200</td>\n",
       "      <td>0.081491</td>\n",
       "    </tr>\n",
       "    <tr>\n",
       "      <td>300</td>\n",
       "      <td>0.026500</td>\n",
       "      <td>0.076740</td>\n",
       "    </tr>\n",
       "    <tr>\n",
       "      <td>400</td>\n",
       "      <td>0.013400</td>\n",
       "      <td>0.076173</td>\n",
       "    </tr>\n",
       "    <tr>\n",
       "      <td>500</td>\n",
       "      <td>0.009800</td>\n",
       "      <td>0.083473</td>\n",
       "    </tr>\n",
       "    <tr>\n",
       "      <td>600</td>\n",
       "      <td>0.004100</td>\n",
       "      <td>0.075446</td>\n",
       "    </tr>\n",
       "    <tr>\n",
       "      <td>700</td>\n",
       "      <td>0.002400</td>\n",
       "      <td>0.080064</td>\n",
       "    </tr>\n",
       "    <tr>\n",
       "      <td>800</td>\n",
       "      <td>0.001200</td>\n",
       "      <td>0.079893</td>\n",
       "    </tr>\n",
       "    <tr>\n",
       "      <td>900</td>\n",
       "      <td>0.000900</td>\n",
       "      <td>0.086112</td>\n",
       "    </tr>\n",
       "    <tr>\n",
       "      <td>1000</td>\n",
       "      <td>0.000400</td>\n",
       "      <td>0.089254</td>\n",
       "    </tr>\n",
       "    <tr>\n",
       "      <td>1100</td>\n",
       "      <td>0.000200</td>\n",
       "      <td>0.090213</td>\n",
       "    </tr>\n",
       "    <tr>\n",
       "      <td>1200</td>\n",
       "      <td>0.000100</td>\n",
       "      <td>0.091108</td>\n",
       "    </tr>\n",
       "    <tr>\n",
       "      <td>1300</td>\n",
       "      <td>0.000100</td>\n",
       "      <td>0.091554</td>\n",
       "    </tr>\n",
       "    <tr>\n",
       "      <td>1400</td>\n",
       "      <td>0.000100</td>\n",
       "      <td>0.091941</td>\n",
       "    </tr>\n",
       "    <tr>\n",
       "      <td>1500</td>\n",
       "      <td>0.000100</td>\n",
       "      <td>0.092188</td>\n",
       "    </tr>\n",
       "    <tr>\n",
       "      <td>1600</td>\n",
       "      <td>0.000100</td>\n",
       "      <td>0.092394</td>\n",
       "    </tr>\n",
       "    <tr>\n",
       "      <td>1700</td>\n",
       "      <td>0.000100</td>\n",
       "      <td>0.092639</td>\n",
       "    </tr>\n",
       "    <tr>\n",
       "      <td>1800</td>\n",
       "      <td>0.000100</td>\n",
       "      <td>0.092771</td>\n",
       "    </tr>\n",
       "    <tr>\n",
       "      <td>1900</td>\n",
       "      <td>0.000100</td>\n",
       "      <td>0.092928</td>\n",
       "    </tr>\n",
       "    <tr>\n",
       "      <td>2000</td>\n",
       "      <td>0.000100</td>\n",
       "      <td>0.092924</td>\n",
       "    </tr>\n",
       "  </tbody>\n",
       "</table><p>"
      ],
      "text/plain": [
       "<IPython.core.display.HTML object>"
      ]
     },
     "metadata": {},
     "output_type": "display_data"
    },
    {
     "data": {
      "text/plain": [
       "TrainOutput(global_step=2000, training_loss=0.016802444082219155, metrics={'train_runtime': 444.2931, 'train_samples_per_second': 4.502, 'train_steps_per_second': 4.502, 'total_flos': 2.571422798610432e+16, 'train_loss': 0.016802444082219155, 'epoch': 28.17})"
      ]
     },
     "execution_count": 16,
     "metadata": {},
     "output_type": "execute_result"
    }
   ],
   "source": [
    "trainer.train()"
   ]
  },
  {
   "cell_type": "code",
   "execution_count": 17,
   "id": "0a52cebc",
   "metadata": {},
   "outputs": [],
   "source": [
    "model.save_pretrained(OUTPUT_DIR)"
   ]
  },
  {
   "cell_type": "code",
   "execution_count": 18,
   "id": "c6c9a52c",
   "metadata": {},
   "outputs": [],
   "source": [
    "#Генерация"
   ]
  },
  {
   "cell_type": "code",
   "execution_count": 19,
   "id": "bfbcc809",
   "metadata": {},
   "outputs": [],
   "source": [
    "import torch\n",
    "from peft import PeftModel\n",
    "import transformers\n",
    "from transformers import LlamaTokenizer, LlamaForCausalLM, GenerationConfig"
   ]
  },
  {
   "cell_type": "code",
   "execution_count": 20,
   "id": "d31958b7",
   "metadata": {},
   "outputs": [
    {
     "data": {
      "application/vnd.jupyter.widget-view+json": {
       "model_id": "ff5efa86e1044c8695d1895be35654d6",
       "version_major": 2,
       "version_minor": 0
      },
      "text/plain": [
       "Loading checkpoint shards:   0%|          | 0/3 [00:00<?, ?it/s]"
      ]
     },
     "metadata": {},
     "output_type": "display_data"
    },
    {
     "name": "stderr",
     "output_type": "stream",
     "text": [
      "/archive/evseev/envllm/lib/python3.8/site-packages/transformers/generation/configuration_utils.py:381: UserWarning: `do_sample` is set to `False`. However, `temperature` is set to `0.9` -- this flag is only used in sample-based generation modes. You should set `do_sample=True` or unset `temperature`. This was detected when initializing the generation config instance, which means the corresponding file may hold incorrect parameterization and should be fixed.\n",
      "  warnings.warn(\n",
      "/archive/evseev/envllm/lib/python3.8/site-packages/transformers/generation/configuration_utils.py:386: UserWarning: `do_sample` is set to `False`. However, `top_p` is set to `0.6` -- this flag is only used in sample-based generation modes. You should set `do_sample=True` or unset `top_p`. This was detected when initializing the generation config instance, which means the corresponding file may hold incorrect parameterization and should be fixed.\n",
      "  warnings.warn(\n"
     ]
    }
   ],
   "source": [
    "DEVICE = \"cuda\" if torch.cuda.is_available() else \"cpu\"\n",
    "\n",
    "BASE_MODEL = \"/archive/evseev/.deeppavlov/downloads/torch_trnsf_models/llama-2-7b-hf\"\n",
    "\n",
    "tokenizer = LlamaTokenizer.from_pretrained(BASE_MODEL)\n",
    "\n",
    "model = LlamaForCausalLM.from_pretrained(\n",
    "        BASE_MODEL,\n",
    "        load_in_8bit=False,\n",
    "        device_map=\"auto\",\n",
    ")\n",
    "\n",
    "model = PeftModel.from_pretrained(model,\"/archive/evseev/test_saiga/Retrieve_formatting/Experiment_Saiga/experiments/AIR_DATA_LLM/checkpoint-2000\",torch_dtype=torch.float16)"
   ]
  },
  {
   "cell_type": "code",
   "execution_count": 21,
   "id": "d3e780d6",
   "metadata": {},
   "outputs": [],
   "source": [
    "model.config.pad_token_id = tokenizer.pad_token_id = 0\n",
    "model.config.bos_token_id=1\n",
    "model.config.eos_token_id=2"
   ]
  },
  {
   "cell_type": "code",
   "execution_count": 22,
   "id": "1ece6ca7",
   "metadata": {},
   "outputs": [],
   "source": [
    "model = model.eval()\n",
    "model = torch.compile(model)"
   ]
  },
  {
   "cell_type": "code",
   "execution_count": 23,
   "id": "94d5a74e",
   "metadata": {},
   "outputs": [],
   "source": [
    "INSTRUCTION = \"Получи данные из запроса: Имя, Фамилия, Отчество, Откуда, Куда, Дата вылета, Время вылета, Количество взрослых,Количество детей,Класс,Багаж. Если какой-то из параметров пользователь не указал, сгенерируй просьбу пользователю указать эти данные \""
   ]
  },
  {
   "cell_type": "code",
   "execution_count": 24,
   "id": "533173c3",
   "metadata": {},
   "outputs": [],
   "source": [
    "def generate_response(prompt,model):\n",
    "    encoding = tokenizer(prompt, return_tensors=\"pt\")\n",
    "    input_ids = encoding[\"input_ids\"].to(DEVICE)\n",
    "    \n",
    "    generation_config = GenerationConfig(\n",
    "                        temperature=0.1,\n",
    "                        top_p=0.75,\n",
    "                        repetition_penalty=1.1,\n",
    "    )\n",
    "    \n",
    "    with torch.inference_mode():\n",
    "        return model.generate(\n",
    "                input_ids=input_ids,\n",
    "                generation_config=generation_config,\n",
    "                return_dict_in_generate=True,\n",
    "                output_scores=True,\n",
    "                max_new_tokens=256,\n",
    "        )"
   ]
  },
  {
   "cell_type": "code",
   "execution_count": 25,
   "id": "ed4bf4e7",
   "metadata": {},
   "outputs": [],
   "source": [
    "def check_propusk(data_list, main_text):\n",
    "    \n",
    "    data_list = [item for item in data_list if ':' in item]\n",
    "    text_info = data_list[0:2]\n",
    "    data_dict = {}\n",
    "    \n",
    "    for item in data_list[4:15]:\n",
    "        parts = item.split(\": \")\n",
    "        if len(parts) == 2:\n",
    "            key, value = parts\n",
    "            data_dict[key] = value\n",
    "    \n",
    "    propuski = \"\"\n",
    "    for key in data_dict.keys():\n",
    "        if data_dict[key] == ',':\n",
    "            user_input = str(input(f\"{key}: \"))\n",
    "            propuski += f\"{key}: \" + user_input + \", \"\n",
    "    propuski = propuski[:-2]\n",
    "    propuski = propuski.rstrip() + \".\"\n",
    "    ready_text = main_text + propuski\n",
    "    \n",
    "    return ready_text"
   ]
  },
  {
   "cell_type": "code",
   "execution_count": 26,
   "id": "ce67bff7",
   "metadata": {},
   "outputs": [],
   "source": [
    "def generate_ticket(text,model=model):\n",
    "    main_text = text\n",
    "    prompt = f\"{INSTRUCTION}\\nТекст:\\n{text}\\nДанные:\"\n",
    "    \n",
    "    response = generate_response(prompt, model)\n",
    "    decoded_output = tokenizer.decode(response.sequences[0], skip_special_tokens=True)\n",
    "    decoded_output_lines=decoded_output.split(\"\\n\")\n",
    "    \n",
    "    return decoded_output_lines, main_text\n"
   ]
  },
  {
   "cell_type": "code",
   "execution_count": 27,
   "id": "2b14bd98",
   "metadata": {},
   "outputs": [],
   "source": [
    "text = \"Здравствуйте! Меня зовут Васильев Олег. Хочу забронировать один билет с багажом в Москву 20 июля в 10:00.\""
   ]
  },
  {
   "cell_type": "code",
   "execution_count": 28,
   "id": "9f7ceeae",
   "metadata": {},
   "outputs": [
    {
     "name": "stderr",
     "output_type": "stream",
     "text": [
      "/archive/evseev/envllm/lib/python3.8/site-packages/transformers/generation/configuration_utils.py:381: UserWarning: `do_sample` is set to `False`. However, `temperature` is set to `0.1` -- this flag is only used in sample-based generation modes. You should set `do_sample=True` or unset `temperature`. This was detected when initializing the generation config instance, which means the corresponding file may hold incorrect parameterization and should be fixed.\n",
      "  warnings.warn(\n",
      "/archive/evseev/envllm/lib/python3.8/site-packages/transformers/generation/configuration_utils.py:386: UserWarning: `do_sample` is set to `False`. However, `top_p` is set to `0.75` -- this flag is only used in sample-based generation modes. You should set `do_sample=True` or unset `top_p`. This was detected when initializing the generation config instance, which means the corresponding file may hold incorrect parameterization and should be fixed.\n",
      "  warnings.warn(\n",
      "/archive/evseev/envllm/lib/python3.8/site-packages/transformers/generation/configuration_utils.py:381: UserWarning: `do_sample` is set to `False`. However, `temperature` is set to `0.1` -- this flag is only used in sample-based generation modes. You should set `do_sample=True` or unset `temperature`.\n",
      "  warnings.warn(\n",
      "/archive/evseev/envllm/lib/python3.8/site-packages/transformers/generation/configuration_utils.py:386: UserWarning: `do_sample` is set to `False`. However, `top_p` is set to `0.75` -- this flag is only used in sample-based generation modes. You should set `do_sample=True` or unset `top_p`.\n",
      "  warnings.warn(\n"
     ]
    },
    {
     "name": "stdout",
     "output_type": "stream",
     "text": [
      "Вы не указали отчество и страну вылета. \n",
      "\n",
      "Отчество: Petrovich\n",
      "Откуда: Sochi\n",
      "\n",
      "\n",
      "Данные:\n",
      "Имя: Васильев,\n",
      "Фамилия: Олег,\n",
      "Отчество: Петрович,\n",
      "Откуда: Сочи,\n",
      "Куда: Москва,\n",
      "Дата вылета: 20.07.2023,\n",
      "Время вылета: 10:00,\n",
      "Количество взрослых: 1,\n",
      "Количество детей: 0,\n",
      "Класс: Эконом,\n",
      "Багажник: Да.\n"
     ]
    }
   ],
   "source": [
    "func_out = generate_ticket(text,model=model)[0]\n",
    "main_text = generate_ticket(text,model=model)[1]\n",
    "error_string = func_out[-1]\n",
    "errors_parts = error_string.split(': ')\n",
    "print(errors_parts[1], \"\\n\")\n",
    "\n",
    "if errors_parts[1] == '':\n",
    "    \n",
    "    print(func_out,'\\n')\n",
    "    \n",
    "else:\n",
    "    \n",
    "    result = check_propusk(data_list = func_out, main_text = text)\n",
    "    print(\"\\n\")\n",
    "    otvet = generate_ticket(text = result)[0]\n",
    "    \n",
    "    for o in otvet[3:15]:\n",
    "        print(o)"
   ]
  },
  {
   "cell_type": "code",
   "execution_count": 29,
   "id": "d8ba8000",
   "metadata": {},
   "outputs": [
    {
     "name": "stdout",
     "output_type": "stream",
     "text": [
      "Old prompt: \n",
      " Здравствуйте! Меня зовут Васильев Олег. Хочу забронировать один билет с багажом в Москву 20 июля в 10:00.\n",
      "\n",
      "New prompt: \n",
      " Здравствуйте! Меня зовут Васильев Олег. Хочу забронировать один билет с багажом в Москву 20 июля в 10:00.Отчество: Petrovich, Откуда: Sochi.\n"
     ]
    }
   ],
   "source": [
    "old_prompt = text\n",
    "new_prompt = otvet[2:3]\n",
    "print(\"Old prompt: \\n\", old_prompt)\n",
    "print()\n",
    "print(\"New prompt: \\n\",*new_prompt)"
   ]
  },
  {
   "cell_type": "code",
   "execution_count": null,
   "id": "e5cb5a85",
   "metadata": {},
   "outputs": [],
   "source": []
  }
 ],
 "metadata": {
  "jupytext": {
   "cell_metadata_filter": "-all",
   "main_language": "python",
   "notebook_metadata_filter": "-all"
  },
  "kernelspec": {
   "display_name": "Python 3 (ipykernel)",
   "language": "python",
   "name": "python3"
  },
  "language_info": {
   "codemirror_mode": {
    "name": "ipython",
    "version": 3
   },
   "file_extension": ".py",
   "mimetype": "text/x-python",
   "name": "python",
   "nbconvert_exporter": "python",
   "pygments_lexer": "ipython3",
   "version": "3.8.10"
  }
 },
 "nbformat": 4,
 "nbformat_minor": 5
}
